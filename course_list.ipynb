{
 "cells": [
  {
   "cell_type": "code",
   "execution_count": 1,
   "metadata": {},
   "outputs": [],
   "source": [
    "import requests,json\n",
    "import time\n",
    "import pandas as pd\n",
    "from lxml import etree\n",
    "import mysql.connector\n",
    "from multiprocessing import Pool as ThreadPool\n",
    "import socket \n",
    "socket.setdefaulttimeout(10)"
   ]
  },
  {
   "cell_type": "code",
   "execution_count": 2,
   "metadata": {},
   "outputs": [],
   "source": [
    "def creat_MysqlDB(): \n",
    "    mydb = mysql.connector.connect(\n",
    "      host=\"localhost\",\n",
    "      user=\"root\",\n",
    "      passwd=\"123456\",\n",
    "      database=\"MOOC\"\n",
    "    )\n",
    "    return mydb"
   ]
  },
  {
   "cell_type": "code",
   "execution_count": 3,
   "metadata": {},
   "outputs": [],
   "source": [
    "head = {\n",
    "    'User-Agent': 'Mozilla/5.0 (Macintosh; Intel Mac OS X 10_12_6) AppleWebKit/537.36 (KHTML, like Gecko) Chrome/71.0.3578.98 Safari/537.36'\n",
    "}"
   ]
  },
  {
   "cell_type": "code",
   "execution_count": 143,
   "metadata": {},
   "outputs": [],
   "source": [
    "def getsource(url):\n",
    "    try:\n",
    "        html = requests.get(url,headers=head,timeout=(3,7))\n",
    "    except requests.exceptions.ConnectTimeout as e:\n",
    "        print(e)\n",
    "        return\n",
    "    selector = etree.HTML(html.text)\n",
    "    content = selector.xpath(\"//html\")[0]\n",
    "    course_id = int(url.replace('http://www.imooc.com/learn/', ''))\n",
    "    course_name = content.xpath('//*[@id=\"main\"]/div[1]/div[1]/div[2]/h2/text()')\n",
    "    if course_name:\n",
    "        course_name = course_name[0] #课程名称\n",
    "        course_direction = content.xpath('//*[@id=\"main\"]/div[1]/div[1]/div[1]/a[2]/text()')[0] #课程方向\n",
    "        course_category = content.xpath('//*[@id=\"main\"]/div[1]/div[1]/div[1]/a[3]/text()')[0] #课程类别\n",
    "        course_level = content.xpath('//*[@id=\"main\"]/div[1]/div[1]/div[3]/div[2]/span[2]/text()')[0] #课程难度\n",
    "        course_duration = content.xpath('//*[@id=\"main\"]/div[1]/div[1]/div[3]/div[3]/span[2]/text()')[0] #课程时长\n",
    "        number_learning_url = 'http://www.imooc.com/course/AjaxCourseMembers?ids='+ str(course_id) #学习人数json\n",
    "        try:\n",
    "            number_learning = int(json.loads(requests.get(number_learning_url).text)['data'][0]['numbers']) #解析学习人数\n",
    "        except requests.exceptions.ConnectTimeout as e:\n",
    "            print(e)\n",
    "            return\n",
    "        course_score = float(content.xpath('//*[@id=\"main\"]/div[1]/div[1]/div[3]/div[5]/span[2]/text()')[0])#评分\n",
    "\n",
    "        #问答数量\n",
    "        number_QnA = content.xpath('//*[@id=\"main\"]/div[2]/div/ul/li[2]/span/text()') \n",
    "        if number_QnA:\n",
    "            number_QnA = int(number_QnA[0])\n",
    "        else:\n",
    "            number_QnA = 0\n",
    "        #评论数量\n",
    "        number_comment = content.xpath('//*[@id=\"main\"]/div[2]/div/ul/li[4]/span/text()') \n",
    "        if number_comment:\n",
    "            number_comment = int(number_comment[0])\n",
    "        else:\n",
    "            number_comment = 0\n",
    "\n",
    "        #计算笔记数量\n",
    "        #1.无课程笔记 2.不需要翻页 3.需要翻页    \n",
    "        note_url = 'http://www.imooc.com/course/note/id/' + str(course_id)\n",
    "        note_html = requests.get(note_url,headers=head,timeout=(3,7))\n",
    "        note_selector = etree.HTML(note_html.text)\n",
    "        note_content = note_selector.xpath(\"//html\")[0]\n",
    "        first_page_note_number = len(note_content.xpath('//*[@id=\"js-note-container\"]/li'))\n",
    "        last_page_note = note_content.xpath('//*[@id=\"course_note\"]/div/a[last()]/@href')\n",
    "        if last_page_note:\n",
    "            last_page_note = int(last_page_note[0].split('=')[-1])\n",
    "            note_number = first_page_note_number + (last_page_note-1)*15\n",
    "        else:\n",
    "            note_number = first_page_note_number\n",
    "        course_chapter = len(content.xpath('//*[@class=\"course-chapters\"]/div'))#视频章节\n",
    "        code_number = len(content.xpath('//i[@class=\"imv2-code_circle type\"]')) #代码练习数量\n",
    "        video_number = len(content.xpath('//i[@class=\"imv2-play_circle type\"]'))#视频数量\n",
    "        exercise_number = len(content.xpath('//i[@class=\"imv2-exercise_circle type\"]'))#测评数量\n",
    "        sql = \"INSERT INTO courses_list (course_id,course_name,course_direction,course_category,course_level\\\n",
    "                    ,course_duration,number_learning\\\n",
    "                    ,course_score,number_QnA,number_comment,note_number\\\n",
    "                    ,course_chapter,code_number,video_number,exercise_number)\\\n",
    "               VALUES (%s, %s, %s, %s, %s, %s, %s, %s, %s, %s,%s, %s, %s, %s, %s)\"\n",
    "        val = (course_id,course_name,course_direction,course_category,course_level\n",
    "               ,course_duration,number_learning\n",
    "               ,course_score,number_QnA,number_comment,note_number\n",
    "               ,course_chapter,code_number,video_number,exercise_number)\n",
    "        mydb = creat_MysqlDB()\n",
    "        mycursor = mydb.cursor()\n",
    "        mycursor.execute(sql, val)\n",
    "        mydb.commit()\n",
    "    \n",
    "    \n",
    "    "
   ]
  },
  {
   "cell_type": "code",
   "execution_count": 145,
   "metadata": {},
   "outputs": [],
   "source": [
    "def spider():\n",
    "    pool = ThreadPool(8) \n",
    "    for i in range(6,1104):\n",
    "        url = 'http://www.imooc.com/learn/' + str(i)\n",
    "        try:\n",
    "            pool.apply_async(getsource, (url,))\n",
    "        except Exception as e:\n",
    "            print(e)\n",
    "            continue\n",
    "    pool.close()\n",
    "    pool.join()  "
   ]
  },
  {
   "cell_type": "code",
   "execution_count": 146,
   "metadata": {},
   "outputs": [],
   "source": [
    "spider()"
   ]
  },
  {
   "cell_type": "code",
   "execution_count": 25,
   "metadata": {},
   "outputs": [
    {
     "data": {
      "text/plain": [
       "0"
      ]
     },
     "execution_count": 25,
     "metadata": {},
     "output_type": "execute_result"
    }
   ],
   "source": [
    "len([])"
   ]
  },
  {
   "cell_type": "code",
   "execution_count": null,
   "metadata": {},
   "outputs": [],
   "source": []
  }
 ],
 "metadata": {
  "kernelspec": {
   "display_name": "Python 3",
   "language": "python",
   "name": "python3"
  },
  "language_info": {
   "codemirror_mode": {
    "name": "ipython",
    "version": 3
   },
   "file_extension": ".py",
   "mimetype": "text/x-python",
   "name": "python",
   "nbconvert_exporter": "python",
   "pygments_lexer": "ipython3",
   "version": "3.7.1"
  }
 },
 "nbformat": 4,
 "nbformat_minor": 2
}
